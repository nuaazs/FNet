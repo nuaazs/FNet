{
 "cells": [
  {
   "cell_type": "code",
   "execution_count": 7,
   "metadata": {},
   "outputs": [],
   "source": [
    "import numpy as np\n",
    "import matplotlib.pyplot as plt\n",
    "plt.style.use('ggplot')\n",
    "import pandas as pd\n",
    "import seaborn as sns\n",
    "sns.set_theme(style=\"whitegrid\")\n",
    "\n",
    "def get_df(lung_real,lung_fake):\n",
    "    output_list = []\n",
    "    for item in lung_real:\n",
    "        print(\"#\")\n",
    "        print(item)\n",
    "        for phase_index in range(len(item)):\n",
    "            output_list.append([\"Real\",phase_index]+[item[phase_index]])\n",
    "    for item in lung_fake:\n",
    "        for phase_index in range(len(item)):\n",
    "            output_list.append([\"Fake\",phase_index]+[item[phase_index]])\n",
    "    df=pd.DataFrame(output_list,columns=['label','phase', 'volume(%)'])\n",
    "    return(df)\n",
    "\n",
    "def get_percent(array):\n",
    "    pass_check = True\n",
    "    output = np.zeros(array.shape)\n",
    "    for p_number in range(array.shape[0]):\n",
    "        max_volume = np.max(array[p_number,:])\n",
    "        for t_index in range(10):\n",
    "            item = array[p_number,t_index]\n",
    "            print(\"#\")\n",
    "            print(item,max_volume)\n",
    "            if np.mean(max_volume - item)<0:\n",
    "                pass_check = False\n",
    "                output[p_number,t_index]=((max_volume-item)*100/max_volume)\n",
    "            else:\n",
    "                output[p_number,t_index]=((max_volume-item)*100/max_volume)\n",
    "\n",
    "    return output\n",
    "    \n",
    "def plot_volume(lung_real,lung_fake):\n",
    "    lung_real = get_percent(lung_real)\n",
    "    lung_fake = get_percent(lung_fake)\n",
    "    #print(lung_fake.shape)\n",
    "    print(lung_real[0])\n",
    "    x = np.arange(len(lung_real[0]))\n",
    "    radio = 1\n",
    "    std_real = np.std(lung_real,axis=0)*radio\n",
    "    mean_real = np.mean(lung_real,axis=0)\n",
    "    mean_fake = np.mean(lung_fake,axis=0)\n",
    "    std_fake = np.std(lung_fake,axis=0)*radio\n",
    "    plt.figure(dpi=200)\n",
    "    plt.fill_between(x, mean_real-std_real,mean_real+std_real, alpha=0.2,label=\"Real std\") \n",
    "    plt.fill_between(x, mean_fake-std_fake,mean_fake+std_fake, alpha=0.2,label=\"Fake std\")\n",
    "    plt.plot(x,mean_real,label=\"Real Mean\")\n",
    "    plt.plot(x,mean_fake,label=\"Fake Mean\")\n",
    "    df = get_df(lung_real,lung_fake)\n",
    "    sns.boxplot(\n",
    "        x=\"phase\",\n",
    "        y=\"volume(%)\", \n",
    "        data=df,\n",
    "        hue=\"label\",  # 引入参数\n",
    "        fliersize=0,\n",
    "        whis=1.2,\n",
    "        showfliers = False\n",
    "    )\n",
    "    plt.legend()\n",
    "    plt.ylabel(\"Lung Volume(%)\")\n",
    "    plt.xlabel(\"Phase\")\n",
    "    plt.xticks([0,1,2,3,4,5,6,7,8,9],[\"t0\",\"t1\",\"t2\",\"t3\",\"t4\",\"t5\",\"t6\",\"t7\",\"t8\",\"t9\"])\n",
    "    plt.show()"
   ]
  },
  {
   "cell_type": "code",
   "execution_count": 3,
   "metadata": {},
   "outputs": [
    {
     "ename": "FileNotFoundError",
     "evalue": "[Errno 2] No such file or directory: '/mnt/zhaosheng/FNet/postprocess/fake_result_all.npy'",
     "output_type": "error",
     "traceback": [
      "\u001b[0;31m---------------------------------------------------------------------------\u001b[0m",
      "\u001b[0;31mFileNotFoundError\u001b[0m                         Traceback (most recent call last)",
      "\u001b[0;32m/tmp/ipykernel_3264176/4062966086.py\u001b[0m in \u001b[0;36m<module>\u001b[0;34m\u001b[0m\n\u001b[0;32m----> 1\u001b[0;31m \u001b[0mleft_fake\u001b[0m \u001b[0;34m=\u001b[0m \u001b[0mnp\u001b[0m\u001b[0;34m.\u001b[0m\u001b[0mload\u001b[0m\u001b[0;34m(\u001b[0m\u001b[0;34m\"/mnt/zhaosheng/FNet/postprocess/fake_result_all.npy\"\u001b[0m\u001b[0;34m,\u001b[0m\u001b[0mallow_pickle\u001b[0m\u001b[0;34m=\u001b[0m\u001b[0;32mTrue\u001b[0m\u001b[0;34m)\u001b[0m\u001b[0;34m\u001b[0m\u001b[0;34m\u001b[0m\u001b[0m\n\u001b[0m\u001b[1;32m      2\u001b[0m \u001b[0mleft_real\u001b[0m \u001b[0;34m=\u001b[0m \u001b[0mnp\u001b[0m\u001b[0;34m.\u001b[0m\u001b[0mload\u001b[0m\u001b[0;34m(\u001b[0m\u001b[0;34m\"/mnt/zhaosheng/FNet/postprocess/real_result_all.npy\"\u001b[0m\u001b[0;34m,\u001b[0m\u001b[0mallow_pickle\u001b[0m\u001b[0;34m=\u001b[0m\u001b[0;32mTrue\u001b[0m\u001b[0;34m)\u001b[0m\u001b[0;34m\u001b[0m\u001b[0;34m\u001b[0m\u001b[0m\n\u001b[1;32m      3\u001b[0m \u001b[0;34m\u001b[0m\u001b[0m\n\u001b[1;32m      4\u001b[0m \u001b[0mplot_volume\u001b[0m\u001b[0;34m(\u001b[0m\u001b[0mleft_real\u001b[0m\u001b[0;34m,\u001b[0m\u001b[0mleft_fake\u001b[0m\u001b[0;34m)\u001b[0m\u001b[0;34m\u001b[0m\u001b[0;34m\u001b[0m\u001b[0m\n",
      "\u001b[0;32m~/.local/lib/python3.8/site-packages/numpy/lib/npyio.py\u001b[0m in \u001b[0;36mload\u001b[0;34m(file, mmap_mode, allow_pickle, fix_imports, encoding)\u001b[0m\n\u001b[1;32m    415\u001b[0m             \u001b[0mown_fid\u001b[0m \u001b[0;34m=\u001b[0m \u001b[0;32mFalse\u001b[0m\u001b[0;34m\u001b[0m\u001b[0;34m\u001b[0m\u001b[0m\n\u001b[1;32m    416\u001b[0m         \u001b[0;32melse\u001b[0m\u001b[0;34m:\u001b[0m\u001b[0;34m\u001b[0m\u001b[0;34m\u001b[0m\u001b[0m\n\u001b[0;32m--> 417\u001b[0;31m             \u001b[0mfid\u001b[0m \u001b[0;34m=\u001b[0m \u001b[0mstack\u001b[0m\u001b[0;34m.\u001b[0m\u001b[0menter_context\u001b[0m\u001b[0;34m(\u001b[0m\u001b[0mopen\u001b[0m\u001b[0;34m(\u001b[0m\u001b[0mos_fspath\u001b[0m\u001b[0;34m(\u001b[0m\u001b[0mfile\u001b[0m\u001b[0;34m)\u001b[0m\u001b[0;34m,\u001b[0m \u001b[0;34m\"rb\"\u001b[0m\u001b[0;34m)\u001b[0m\u001b[0;34m)\u001b[0m\u001b[0;34m\u001b[0m\u001b[0;34m\u001b[0m\u001b[0m\n\u001b[0m\u001b[1;32m    418\u001b[0m             \u001b[0mown_fid\u001b[0m \u001b[0;34m=\u001b[0m \u001b[0;32mTrue\u001b[0m\u001b[0;34m\u001b[0m\u001b[0;34m\u001b[0m\u001b[0m\n\u001b[1;32m    419\u001b[0m \u001b[0;34m\u001b[0m\u001b[0m\n",
      "\u001b[0;31mFileNotFoundError\u001b[0m: [Errno 2] No such file or directory: '/mnt/zhaosheng/FNet/postprocess/fake_result_all.npy'"
     ]
    }
   ],
   "source": [
    "left_fake = np.load(\"/mnt/zhaosheng/FNet/postprocess/fake_result_all.npy\",allow_pickle=True)\n",
    "left_real = np.load(\"/mnt/zhaosheng/FNet/postprocess/real_result_all.npy\",allow_pickle=True)\n",
    "\n",
    "plot_volume(left_real,left_fake)"
   ]
  },
  {
   "cell_type": "code",
   "execution_count": 31,
   "metadata": {},
   "outputs": [
    {
     "data": {
      "text/plain": [
       "(44, 10)"
      ]
     },
     "execution_count": 31,
     "metadata": {},
     "output_type": "execute_result"
    }
   ],
   "source": [
    "left_fake.shape"
   ]
  },
  {
   "cell_type": "code",
   "execution_count": 43,
   "metadata": {},
   "outputs": [
    {
     "data": {
      "text/plain": [
       "array([100.8188651 ,  79.96625925,  46.87579106,  14.50366728,\n",
       "         4.4334002 ,   5.65427374,   5.16079058,  22.18862546,\n",
       "        60.4667002 ,  97.28482744])"
      ]
     },
     "execution_count": 43,
     "metadata": {},
     "output_type": "execute_result"
    }
   ],
   "source": [
    "left_real[1]"
   ]
  },
  {
   "cell_type": "code",
   "execution_count": 5,
   "metadata": {},
   "outputs": [
    {
     "name": "stderr",
     "output_type": "stream",
     "text": [
      "/home/lyxx/.local/lib/python3.8/site-packages/monai/networks/blocks/warp.py:65: UserWarning:\n",
      "\n",
      "monai.networks.blocks.Warp: Using PyTorch native grid_sample.\n",
      "\n"
     ]
    }
   ],
   "source": [
    "import numpy as np\n",
    "import ants\n",
    "import os\n",
    "from IPython import embed\n",
    "from cfg import real_nii_path\n",
    "from cfg import tumor_path\n",
    "from cfg import output_path\n",
    "from cfg import EPOCH\n",
    "from monai.networks.blocks import Warp\n",
    "import torch\n",
    "warp_layer = Warp()\n",
    "\n",
    "def get_result(output_path,epoch,type=\"_ddf_fake\"):\n",
    "    return sorted([os.path.join(output_path,_file) for _file in os.listdir(output_path) \n",
    "                if _file.startswith(f\"{epoch}_\") and str(type) in _file\n",
    "            ],key=lambda x:x.split(\"_\")[1])\n",
    "\n",
    "def get_loc(ddf,ct,mask):\n",
    "    assert ct.shape == mask.shape\n",
    "    ddf_x = ddf[0]\n",
    "    ddf_y = ddf[1]\n",
    "    ddf_z = ddf[2]\n",
    "    ct[mask<0.5]=0\n",
    "    ddf_x[mask<0.5]=0\n",
    "    ddf_y[mask<0.5]=0\n",
    "    ddf_z[mask<0.5]=0\n",
    "    x_mean = np.mean(ddf_x[mask>0])\n",
    "    # print(ddf_x[mask>0].shape)\n",
    "    y_mean = np.mean(ddf_y[mask>0])\n",
    "    z_mean = np.mean(ddf_z[mask>0])\n",
    "    # embed()\n",
    "    return x_mean,y_mean,z_mean\n",
    "\n",
    "def plot_loc(ddf,ct,mask):\n",
    "    ct = ct+1000\n",
    "    ants.plot(mask)\n",
    "\n",
    "\n",
    "    raw_mask = torch.FloatTensor(mask.numpy()).unsqueeze(dim=0).unsqueeze(dim=0)\n",
    "    ddf = torch.tensor(ddf).cuda().unsqueeze(dim=0)\n",
    "    print(raw_mask.shape)\n",
    "    print(ddf.shape)\n",
    "    new_mask_array = warp_layer(raw_mask,ddf).cpu().detach().numpy()[0,0]\n",
    "    print(new_mask_array.shape)\n",
    "    new_mask = mask.new_image_like(new_mask_array)\n",
    "\n",
    "\n",
    "    ants.plot(new_mask)"
   ]
  },
  {
   "cell_type": "code",
   "execution_count": 6,
   "metadata": {},
   "outputs": [
    {
     "name": "stdout",
     "output_type": "stream",
     "text": [
      "**344311\n",
      "\t#T5\n"
     ]
    },
    {
     "data": {
      "image/png": "[encoded data removed]",
      "text/plain": [
       "<Figure size 864x540 with 12 Axes>"
      ]
     },
     "metadata": {},
     "output_type": "display_data"
    },
    {
     "name": "stdout",
     "output_type": "stream",
     "text": [
      "torch.Size([1, 1, 128, 128, 64])\n",
      "torch.Size([1, 3, 128, 128, 64])\n"
     ]
    },
    {
     "name": "stderr",
     "output_type": "stream",
     "text": [
      "/home/lyxx/anaconda3/envs/fnet/lib/python3.8/site-packages/torch/functional.py:478: UserWarning:\n",
      "\n",
      "torch.meshgrid: in an upcoming release, it will be required to pass the indexing argument. (Triggered internally at  /opt/conda/conda-bld/pytorch_1659484810403/work/aten/src/ATen/native/TensorShape.cpp:2894.)\n",
      "\n"
     ]
    },
    {
     "ename": "RuntimeError",
     "evalue": "Expected all tensors to be on the same device, but found at least two devices, cpu and cuda:0! (when checking argument for argument grid in method wrapper__grid_sampler_3d)",
     "output_type": "error",
     "traceback": [
      "\u001b[0;31m---------------------------------------------------------------------------\u001b[0m",
      "\u001b[0;31mRuntimeError\u001b[0m                              Traceback (most recent call last)",
      "\u001b[0;32m/tmp/ipykernel_3264176/2416891519.py\u001b[0m in \u001b[0;36m<module>\u001b[0;34m\u001b[0m\n\u001b[1;32m     17\u001b[0m     \u001b[0mddf_fake\u001b[0m \u001b[0;34m=\u001b[0m \u001b[0mddfs_fake\u001b[0m\u001b[0;34m[\u001b[0m\u001b[0mi\u001b[0m\u001b[0;34m]\u001b[0m\u001b[0;34m\u001b[0m\u001b[0;34m\u001b[0m\u001b[0m\n\u001b[1;32m     18\u001b[0m     \u001b[0mddf_real\u001b[0m \u001b[0;34m=\u001b[0m \u001b[0mddfs_real\u001b[0m\u001b[0;34m[\u001b[0m\u001b[0mi\u001b[0m\u001b[0;34m]\u001b[0m\u001b[0;34m\u001b[0m\u001b[0;34m\u001b[0m\u001b[0m\n\u001b[0;32m---> 19\u001b[0;31m     \u001b[0mplot_loc\u001b[0m\u001b[0;34m(\u001b[0m\u001b[0mddf_fake\u001b[0m\u001b[0;34m,\u001b[0m\u001b[0mct\u001b[0m\u001b[0;34m,\u001b[0m\u001b[0mmask\u001b[0m\u001b[0;34m)\u001b[0m\u001b[0;34m\u001b[0m\u001b[0;34m\u001b[0m\u001b[0m\n\u001b[0m\u001b[1;32m     20\u001b[0m     \u001b[0;32mbreak\u001b[0m\u001b[0;34m\u001b[0m\u001b[0;34m\u001b[0m\u001b[0m\n",
      "\u001b[0;32m/tmp/ipykernel_3264176/3631827361.py\u001b[0m in \u001b[0;36mplot_loc\u001b[0;34m(ddf, ct, mask)\u001b[0m\n\u001b[1;32m     41\u001b[0m     \u001b[0mprint\u001b[0m\u001b[0;34m(\u001b[0m\u001b[0mraw_mask\u001b[0m\u001b[0;34m.\u001b[0m\u001b[0mshape\u001b[0m\u001b[0;34m)\u001b[0m\u001b[0;34m\u001b[0m\u001b[0;34m\u001b[0m\u001b[0m\n\u001b[1;32m     42\u001b[0m     \u001b[0mprint\u001b[0m\u001b[0;34m(\u001b[0m\u001b[0mddf\u001b[0m\u001b[0;34m.\u001b[0m\u001b[0mshape\u001b[0m\u001b[0;34m)\u001b[0m\u001b[0;34m\u001b[0m\u001b[0;34m\u001b[0m\u001b[0m\n\u001b[0;32m---> 43\u001b[0;31m     \u001b[0mnew_mask_array\u001b[0m \u001b[0;34m=\u001b[0m \u001b[0mwarp_layer\u001b[0m\u001b[0;34m(\u001b[0m\u001b[0mraw_mask\u001b[0m\u001b[0;34m,\u001b[0m\u001b[0mddf\u001b[0m\u001b[0;34m)\u001b[0m\u001b[0;34m.\u001b[0m\u001b[0mcpu\u001b[0m\u001b[0;34m(\u001b[0m\u001b[0;34m)\u001b[0m\u001b[0;34m.\u001b[0m\u001b[0mdetach\u001b[0m\u001b[0;34m(\u001b[0m\u001b[0;34m)\u001b[0m\u001b[0;34m.\u001b[0m\u001b[0mnumpy\u001b[0m\u001b[0;34m(\u001b[0m\u001b[0;34m)\u001b[0m\u001b[0;34m[\u001b[0m\u001b[0;36m0\u001b[0m\u001b[0;34m,\u001b[0m\u001b[0;36m0\u001b[0m\u001b[0;34m]\u001b[0m\u001b[0;34m\u001b[0m\u001b[0;34m\u001b[0m\u001b[0m\n\u001b[0m\u001b[1;32m     44\u001b[0m     \u001b[0mprint\u001b[0m\u001b[0;34m(\u001b[0m\u001b[0mnew_mask_array\u001b[0m\u001b[0;34m.\u001b[0m\u001b[0mshape\u001b[0m\u001b[0;34m)\u001b[0m\u001b[0;34m\u001b[0m\u001b[0;34m\u001b[0m\u001b[0m\n\u001b[1;32m     45\u001b[0m     \u001b[0mnew_mask\u001b[0m \u001b[0;34m=\u001b[0m \u001b[0mmask\u001b[0m\u001b[0;34m.\u001b[0m\u001b[0mnew_image_like\u001b[0m\u001b[0;34m(\u001b[0m\u001b[0mnew_mask_array\u001b[0m\u001b[0;34m)\u001b[0m\u001b[0;34m\u001b[0m\u001b[0;34m\u001b[0m\u001b[0m\n",
      "\u001b[0;32m~/anaconda3/envs/fnet/lib/python3.8/site-packages/torch/nn/modules/module.py\u001b[0m in \u001b[0;36m_call_impl\u001b[0;34m(self, *input, **kwargs)\u001b[0m\n\u001b[1;32m   1128\u001b[0m         if not (self._backward_hooks or self._forward_hooks or self._forward_pre_hooks or _global_backward_hooks\n\u001b[1;32m   1129\u001b[0m                 or _global_forward_hooks or _global_forward_pre_hooks):\n\u001b[0;32m-> 1130\u001b[0;31m             \u001b[0;32mreturn\u001b[0m \u001b[0mforward_call\u001b[0m\u001b[0;34m(\u001b[0m\u001b[0;34m*\u001b[0m\u001b[0minput\u001b[0m\u001b[0;34m,\u001b[0m \u001b[0;34m**\u001b[0m\u001b[0mkwargs\u001b[0m\u001b[0;34m)\u001b[0m\u001b[0;34m\u001b[0m\u001b[0;34m\u001b[0m\u001b[0m\n\u001b[0m\u001b[1;32m   1131\u001b[0m         \u001b[0;31m# Do not call functions when jit is used\u001b[0m\u001b[0;34m\u001b[0m\u001b[0;34m\u001b[0m\u001b[0;34m\u001b[0m\u001b[0m\n\u001b[1;32m   1132\u001b[0m         \u001b[0mfull_backward_hooks\u001b[0m\u001b[0;34m,\u001b[0m \u001b[0mnon_full_backward_hooks\u001b[0m \u001b[0;34m=\u001b[0m \u001b[0;34m[\u001b[0m\u001b[0;34m]\u001b[0m\u001b[0;34m,\u001b[0m \u001b[0;34m[\u001b[0m\u001b[0;34m]\u001b[0m\u001b[0;34m\u001b[0m\u001b[0;34m\u001b[0m\u001b[0m\n",
      "\u001b[0;32m~/.local/lib/python3.8/site-packages/monai/networks/blocks/warp.py\u001b[0m in \u001b[0;36mforward\u001b[0;34m(self, image, ddf)\u001b[0m\n\u001b[1;32m    115\u001b[0m             \u001b[0mindex_ordering\u001b[0m\u001b[0;34m:\u001b[0m \u001b[0mList\u001b[0m\u001b[0;34m[\u001b[0m\u001b[0mint\u001b[0m\u001b[0;34m]\u001b[0m \u001b[0;34m=\u001b[0m \u001b[0mlist\u001b[0m\u001b[0;34m(\u001b[0m\u001b[0mrange\u001b[0m\u001b[0;34m(\u001b[0m\u001b[0mspatial_dims\u001b[0m \u001b[0;34m-\u001b[0m \u001b[0;36m1\u001b[0m\u001b[0;34m,\u001b[0m \u001b[0;34m-\u001b[0m\u001b[0;36m1\u001b[0m\u001b[0;34m,\u001b[0m \u001b[0;34m-\u001b[0m\u001b[0;36m1\u001b[0m\u001b[0;34m)\u001b[0m\u001b[0;34m)\u001b[0m\u001b[0;34m\u001b[0m\u001b[0;34m\u001b[0m\u001b[0m\n\u001b[1;32m    116\u001b[0m             \u001b[0mgrid\u001b[0m \u001b[0;34m=\u001b[0m \u001b[0mgrid\u001b[0m\u001b[0;34m[\u001b[0m\u001b[0;34m...\u001b[0m\u001b[0;34m,\u001b[0m \u001b[0mindex_ordering\u001b[0m\u001b[0;34m]\u001b[0m  \u001b[0;31m# z, y, x -> x, y, z\u001b[0m\u001b[0;34m\u001b[0m\u001b[0;34m\u001b[0m\u001b[0m\n\u001b[0;32m--> 117\u001b[0;31m             return F.grid_sample(\n\u001b[0m\u001b[1;32m    118\u001b[0m                 \u001b[0mimage\u001b[0m\u001b[0;34m,\u001b[0m \u001b[0mgrid\u001b[0m\u001b[0;34m,\u001b[0m \u001b[0mmode\u001b[0m\u001b[0;34m=\u001b[0m\u001b[0mself\u001b[0m\u001b[0;34m.\u001b[0m\u001b[0m_interp_mode\u001b[0m\u001b[0;34m,\u001b[0m \u001b[0mpadding_mode\u001b[0m\u001b[0;34m=\u001b[0m\u001b[0;34mf\"{self._padding_mode}\"\u001b[0m\u001b[0;34m,\u001b[0m \u001b[0malign_corners\u001b[0m\u001b[0;34m=\u001b[0m\u001b[0;32mTrue\u001b[0m\u001b[0;34m\u001b[0m\u001b[0;34m\u001b[0m\u001b[0m\n\u001b[1;32m    119\u001b[0m             )\n",
      "\u001b[0;32m~/anaconda3/envs/fnet/lib/python3.8/site-packages/torch/nn/functional.py\u001b[0m in \u001b[0;36mgrid_sample\u001b[0;34m(input, grid, mode, padding_mode, align_corners)\u001b[0m\n\u001b[1;32m   4221\u001b[0m         \u001b[0malign_corners\u001b[0m \u001b[0;34m=\u001b[0m \u001b[0;32mFalse\u001b[0m\u001b[0;34m\u001b[0m\u001b[0;34m\u001b[0m\u001b[0m\n\u001b[1;32m   4222\u001b[0m \u001b[0;34m\u001b[0m\u001b[0m\n\u001b[0;32m-> 4223\u001b[0;31m     \u001b[0;32mreturn\u001b[0m \u001b[0mtorch\u001b[0m\u001b[0;34m.\u001b[0m\u001b[0mgrid_sampler\u001b[0m\u001b[0;34m(\u001b[0m\u001b[0minput\u001b[0m\u001b[0;34m,\u001b[0m \u001b[0mgrid\u001b[0m\u001b[0;34m,\u001b[0m \u001b[0mmode_enum\u001b[0m\u001b[0;34m,\u001b[0m \u001b[0mpadding_mode_enum\u001b[0m\u001b[0;34m,\u001b[0m \u001b[0malign_corners\u001b[0m\u001b[0;34m)\u001b[0m\u001b[0;34m\u001b[0m\u001b[0;34m\u001b[0m\u001b[0m\n\u001b[0m\u001b[1;32m   4224\u001b[0m \u001b[0;34m\u001b[0m\u001b[0m\n\u001b[1;32m   4225\u001b[0m \u001b[0;34m\u001b[0m\u001b[0m\n",
      "\u001b[0;31mRuntimeError\u001b[0m: Expected all tensors to be on the same device, but found at least two devices, cpu and cuda:0! (when checking argument for argument grid in method wrapper__grid_sampler_3d)"
     ]
    }
   ],
   "source": [
    "\n",
    "fake_images = get_result(output_path,EPOCH,\"_image_fake\")\n",
    "real_images = get_result(output_path,EPOCH,\"_image_real\")\n",
    "fake_ddfs = get_result(output_path,EPOCH,\"_ddf_fake\")\n",
    "real_ddfs = get_result(output_path,EPOCH,\"_ddf_real\")\n",
    "\n",
    "error = []\n",
    "for index in range(len(real_ddfs)):\n",
    "    pname = fake_images[index].split(\"/\")[-1].split(\"_\")[1]\n",
    "    print(f\"**{pname}\")\n",
    "    ddfs_fake = np.load(os.path.join(output_path,f\"{EPOCH}_{pname}_ddf_fake.npy\")).reshape((9,3,128,128,64))\n",
    "    ddfs_real = np.load(os.path.join(output_path,f\"{EPOCH}_{pname}_ddf_real.npy\")).reshape((9,3,128,128,64))\n",
    "    ct = ants.image_read(os.path.join(real_nii_path,f\"{pname}_t0_resampled.nii\"))#.numpy()\n",
    "    mask = ants.image_read(os.path.join(tumor_path,f\"{pname}_t0_Segmentation.seg.nrrd\"))#.numpy()\n",
    "    i = 5\n",
    "\n",
    "    print(f\"\\t#T{i}\")\n",
    "    ddf_fake = ddfs_fake[i]\n",
    "    ddf_real = ddfs_real[i]\n",
    "    plot_loc(ddf_fake,ct,mask)\n",
    "    break"
   ]
  },
  {
   "cell_type": "code",
   "execution_count": null,
   "metadata": {},
   "outputs": [],
   "source": [
    "import numpy as np\n",
    "import ants\n",
    "import os\n",
    "from IPython import embed\n",
    "from cfg import real_nii_path\n",
    "from cfg import tumor_path\n",
    "from cfg import output_path\n",
    "from cfg import EPOCH\n",
    "from monai.networks.blocks import Warp\n",
    "import torch\n",
    "import matplotlib.pyplot as plt\n",
    "\n",
    "warp_layer = Warp()\n",
    "\n",
    "def get_result(output_path,epoch,type=\"_ddf_fake\"):\n",
    "    return sorted([os.path.join(output_path,_file) for _file in os.listdir(output_path) \n",
    "                if _file.startswith(f\"{epoch}_\") and str(type) in _file\n",
    "            ],key=lambda x:x.split(\"_\")[1])\n",
    "\n",
    "def get_loc(ddf,ct,mask):\n",
    "    assert ct.shape == mask.shape\n",
    "\n",
    "    mean_loc = np.mean(mask)\n",
    "    plt.figure()\n",
    "    plt.plot(mask[:,:,int(mean_loc[2])])\n",
    "    plt.show()\n",
    "\n",
    "    plt.figure()\n",
    "    plt.plot(ct[:,:,int(mean_loc[2])])\n",
    "    plt.show()\n",
    "\n",
    "    ddf_x = ddf[0]\n",
    "    ddf_y = ddf[1]\n",
    "    ddf_z = ddf[2]\n",
    "    ct[mask<0.5]=0\n",
    "    ddf_x[mask<0.5]=0\n",
    "    ddf_y[mask<0.5]=0\n",
    "    ddf_z[mask<0.5]=0\n",
    "    x_mean = np.mean(ddf_x[mask>0])\n",
    "    # print(ddf_x[mask>0].shape)\n",
    "    y_mean = np.mean(ddf_y[mask>0])\n",
    "    z_mean = np.mean(ddf_z[mask>0])\n",
    "    # embed()\n",
    "    return x_mean,y_mean,z_mean\n",
    "\n",
    "def plot_loc(ddf,ct,mask):\n",
    "    ct = ct+1000\n",
    "    ants.plot(mask)\n",
    "\n",
    "\n",
    "    raw_mask = torch.FloatTensor(mask.numpy()).unsqueeze(dim=0).unsqueeze(dim=0)\n",
    "    ddf = torch.tensor(ddf).cuda().unsqueeze(dim=0)\n",
    "    print(raw_mask.shape)\n",
    "    print(ddf.shape)\n",
    "    new_mask_array = warp_layer(raw_mask,ddf).cpu().detach().numpy()[0,0]\n",
    "    print(new_mask_array.shape)\n",
    "    new_mask = mask.new_image_like(new_mask_array)\n",
    "\n",
    "\n",
    "    ants.plot(new_mask)\n",
    "\n",
    "\n",
    "fake_images = get_result(output_path,EPOCH,\"_image_fake\")\n",
    "real_images = get_result(output_path,EPOCH,\"_image_real\")\n",
    "fake_ddfs = get_result(output_path,EPOCH,\"_ddf_fake\")\n",
    "real_ddfs = get_result(output_path,EPOCH,\"_ddf_real\")\n",
    "\n",
    "error = []\n",
    "for index in range(len(real_ddfs)):\n",
    "    pname = fake_images[index].split(\"/\")[-1].split(\"_\")[1]\n",
    "    print(f\"**{pname}\")\n",
    "    ddfs_fake = np.load(os.path.join(output_path,f\"{EPOCH}_{pname}_ddf_fake.npy\")).reshape((9,3,128,128,64))\n",
    "    ddfs_real = np.load(os.path.join(output_path,f\"{EPOCH}_{pname}_ddf_real.npy\")).reshape((9,3,128,128,64))\n",
    "    ct = ants.image_read(os.path.join(real_nii_path,f\"{pname}_t0_resampled.nii\"))#.numpy()\n",
    "    mask = ants.image_read(os.path.join(tumor_path,f\"{pname}_t0_Segmentation.seg.nrrd\"))#.numpy()\n",
    "    i = 5\n",
    "\n",
    "    print(f\"\\t#T{i}\")\n",
    "    ddf_fake = ddfs_fake[i]\n",
    "    ddf_real = ddfs_real[i]\n",
    "    plot_loc(ddf_fake,ct,mask)\n",
    "    break\n"
   ]
  },
  {
   "cell_type": "code",
   "execution_count": null,
   "metadata": {},
   "outputs": [],
   "source": []
  }
 ],
 "metadata": {
  "kernelspec": {
   "display_name": "Python 3.8.13 ('fnet')",
   "language": "python",
   "name": "python3"
  },
  "language_info": {
   "codemirror_mode": {
    "name": "ipython",
    "version": 3
   },
   "file_extension": ".py",
   "mimetype": "text/x-python",
   "name": "python",
   "nbconvert_exporter": "python",
   "pygments_lexer": "ipython3",
   "version": "3.8.13"
  },
  "orig_nbformat": 4,
  "vscode": {
   "interpreter": {
    "hash": "fa5823e25b6f4f7526aeb96601212cfb79f30b9d5fe354524d616b36b5ce3ce9"
   }
  }
 },
 "nbformat": 4,
 "nbformat_minor": 2
}
