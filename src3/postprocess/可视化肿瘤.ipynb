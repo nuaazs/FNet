{
 "cells": [
  {
   "cell_type": "code",
   "execution_count": 5,
   "metadata": {},
   "outputs": [
    {
     "name": "stderr",
     "output_type": "stream",
     "text": [
      "/home/lyxx/anaconda3/envs/fnet/lib/python3.8/site-packages/monai/networks/blocks/warp.py:66: UserWarning:\n",
      "\n",
      "monai.networks.blocks.Warp: Using PyTorch native grid_sample.\n",
      "\n"
     ]
    }
   ],
   "source": [
    "# coding = utf-8\n",
    "# @Time    : 2022-10-17  01:27:03\n",
    "# @Author  : zhaosheng@nuaa.edu.cn\n",
    "# @Describe: 可视化肿瘤位置.\n",
    "\n",
    "import numpy as np\n",
    "import ants\n",
    "import os\n",
    "from IPython import embed\n",
    "from monai.networks.blocks import Warp\n",
    "import torch\n",
    "import matplotlib.pyplot as plt\n",
    "\n",
    "# cfg\n",
    "from cfg import real_nii_path\n",
    "from cfg import tumor_path\n",
    "from cfg import output_path\n",
    "from cfg import EPOCH\n",
    "\n",
    "warp_layer = Warp()\n",
    "\n",
    "\n",
    "def get_result(output_path, epoch, type=\"_ddf_fake\"):\n",
    "    return sorted(\n",
    "        [\n",
    "            os.path.join(output_path, _file)\n",
    "            for _file in os.listdir(output_path)\n",
    "            if _file.startswith(f\"{epoch}_\") and str(type) in _file\n",
    "        ],\n",
    "        key=lambda x: x.split(\"_\")[1],\n",
    "    )\n",
    "\n",
    "\n",
    "def get_loc(ddf, ct, mask):\n",
    "    assert ct.shape == mask.shape\n",
    "\n",
    "    mean_loc = np.mean(mask)\n",
    "    # plt.figure()\n",
    "    # plt.plot(mask[:,:,int(mean_loc[2])])\n",
    "    # plt.show()\n",
    "\n",
    "    # plt.figure()\n",
    "    # plt.plot(ct[:,:,int(mean_loc[2])])\n",
    "    # plt.show()\n",
    "\n",
    "    ddf_x = ddf[0]\n",
    "    ddf_y = ddf[1]\n",
    "    ddf_z = ddf[2]\n",
    "    ct[mask < 0.5] = 0\n",
    "    ddf_x[mask < 0.5] = 0\n",
    "    ddf_y[mask < 0.5] = 0\n",
    "    ddf_z[mask < 0.5] = 0\n",
    "    x_mean = np.mean(ddf_x[mask > 0])\n",
    "    # print(ddf_x[mask>0].shape)\n",
    "    y_mean = np.mean(ddf_y[mask > 0])\n",
    "    z_mean = np.mean(ddf_z[mask > 0])\n",
    "    # embed()\n",
    "    return x_mean, y_mean, z_mean\n",
    "\n",
    "\n",
    "def plot_loc(ddf, ct, mask):\n",
    "    print(f\" Type of ddf : {type(ddf)}\")\n",
    "    print(f\" Type of ct : {type(ct)}\")\n",
    "    ct = ct + 1000\n",
    "    ants.plot(mask)\n",
    "\n",
    "    raw_mask = torch.FloatTensor(mask.numpy()).unsqueeze(dim=0).unsqueeze(dim=0).cuda()\n",
    "    ddf = torch.tensor(ddf).cuda().unsqueeze(dim=0)\n",
    "    print(raw_mask.shape)\n",
    "    print(ddf.shape)\n",
    "    new_mask_array = warp_layer(raw_mask, ddf).cpu().detach().numpy()[0, 0]\n",
    "    print(new_mask_array.shape)\n",
    "    new_mask = mask.new_image_like(new_mask_array)\n",
    "\n",
    "    ants.plot(new_mask)\n",
    "\n",
    "\n"
   ]
  },
  {
   "cell_type": "code",
   "execution_count": 6,
   "metadata": {},
   "outputs": [
    {
     "name": "stdout",
     "output_type": "stream",
     "text": [
      "**344311\n",
      "\t#T5\n",
      " Type of ddf : <class 'numpy.ndarray'>\n",
      " Type of ct : <class 'ants.core.ants_image.ANTsImage'>\n"
     ]
    },
    {
     "data": {
      "image/png": "[encoded data removed]",
      "text/plain": [
       "<Figure size 864x540 with 12 Axes>"
      ]
     },
     "metadata": {
      "needs_background": "light"
     },
     "output_type": "display_data"
    },
    {
     "name": "stdout",
     "output_type": "stream",
     "text": [
      "torch.Size([1, 1, 128, 128, 64])\n",
      "torch.Size([1, 3, 128, 128, 64])\n",
      "(128, 128, 64)\n"
     ]
    },
    {
     "data": {
      "image/png": "[encoded data removed]",
      "text/plain": [
       "<Figure size 864x540 with 12 Axes>"
      ]
     },
     "metadata": {
      "needs_background": "light"
     },
     "output_type": "display_data"
    }
   ],
   "source": [
    "\n",
    "fake_images = get_result(output_path, EPOCH, \"_image_fake\")\n",
    "real_images = get_result(output_path, EPOCH, \"_image_real\")\n",
    "fake_ddfs = get_result(output_path, EPOCH, \"_ddf_fake\")\n",
    "real_ddfs = get_result(output_path, EPOCH, \"_ddf_real\")\n",
    "\n",
    "error = []\n",
    "for index in range(len(real_ddfs)):\n",
    "    pname = fake_images[index].split(\"/\")[-1].split(\"_\")[1]\n",
    "    print(f\"**{pname}\")\n",
    "    ddfs_fake = np.load(\n",
    "        os.path.join(output_path, f\"{EPOCH}_{pname}_ddf_fake.npy\")\n",
    "    ).reshape((9, 3, 128, 128, 64))\n",
    "    ddfs_real = np.load(\n",
    "        os.path.join(output_path, f\"{EPOCH}_{pname}_ddf_real.npy\")\n",
    "    ).reshape((9, 3, 128, 128, 64))\n",
    "    ct = ants.image_read(\n",
    "        os.path.join(real_nii_path, f\"{pname}_t0.nii\")\n",
    "    )  # .numpy()\n",
    "    mask = ants.image_read(\n",
    "        os.path.join(tumor_path, f\"{pname}_t0_Segmentation.seg.nrrd\")\n",
    "    )  # .numpy()\n",
    "    i = 5\n",
    "\n",
    "    print(f\"\\t#T{i}\")\n",
    "    ddf_fake = ddfs_fake[i]\n",
    "    ddf_real = ddfs_real[i]\n",
    "    plot_loc(ddf_fake, ct, mask)\n",
    "    break"
   ]
  },
  {
   "cell_type": "code",
   "execution_count": null,
   "metadata": {},
   "outputs": [],
   "source": []
  }
 ],
 "metadata": {
  "kernelspec": {
   "display_name": "Python 3.8.13 ('fnet')",
   "language": "python",
   "name": "python3"
  },
  "language_info": {
   "codemirror_mode": {
    "name": "ipython",
    "version": 3
   },
   "file_extension": ".py",
   "mimetype": "text/x-python",
   "name": "python",
   "nbconvert_exporter": "python",
   "pygments_lexer": "ipython3",
   "version": "3.8.13"
  },
  "orig_nbformat": 4,
  "vscode": {
   "interpreter": {
    "hash": "fa5823e25b6f4f7526aeb96601212cfb79f30b9d5fe354524d616b36b5ce3ce9"
   }
  }
 },
 "nbformat": 4,
 "nbformat_minor": 2
}
